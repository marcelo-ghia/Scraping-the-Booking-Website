{
 "cells": [
  {
   "cell_type": "markdown",
   "id": "54568c71",
   "metadata": {
    "id": "54568c71"
   },
   "source": [
    "![bse_logo_textminingcourse](https://bse.eu/sites/default/files/bse_logo_small.png)"
   ]
  },
  {
   "cell_type": "markdown",
   "id": "f295fdc0",
   "metadata": {},
   "source": [
    "# Homework 3 - Scraping the Booking Website\n",
    "\n",
    "## Introduction to Text Mining and Natural Language Processing\n",
    "\n",
    "### Group 1 - Eric Frey, Marcelo Ghia Salazar, Tobias Pfeiffer and Agostina Pissinis"
   ]
  },
  {
   "cell_type": "markdown",
   "id": "31df6151",
   "metadata": {},
   "source": [
    "This homework will be intense. You can work on the scraping part of this homework during the TA session with Luis' help. The TA session will be there to help you - make good use of this and prepare a little before by doing step 2) before the TA session and then working on steps 3) following."
   ]
  },
  {
   "cell_type": "markdown",
   "id": "b8d88992",
   "metadata": {},
   "source": [
    "**1) Get together in groups as randomized here: https://docs.google.com/spreadsheets/d/1W0qAKkJ1_J6wXDOs0PhSTnWgwA9buZmMeI3YDGIYAYY/edit?usp=sharing**"
   ]
  },
  {
   "cell_type": "markdown",
   "id": "f444cc0b",
   "metadata": {},
   "source": [
    "**2) Download the material for the homework and get the booking scrape code to run. Prove that you did by attaching a jupyter notebook (this is only relevant for those who fail later steps). \n",
    "Design and implement a mini research project in which you research the effect of a big annual event in Barcelona on rental prices on booking by scraping data for at least two separate weeks (note that search results go across different pages) for Barcelona and at least one more city.**\n",
    "\n",
    "Code to be found in the attached file \"Scrapping_Booking_Homework_3_Group_1.ipynb\".\n"
   ]
  },
  {
   "cell_type": "markdown",
   "id": "84a6fcff",
   "metadata": {},
   "source": [
    "**3) Identify an event that makes a lot people come to Barcelona.**\n",
    "\n",
    "The event we have chosen to work with is the Primavera Sound, which is a music festival that goes from Monday 29th of May 2023 till the Sunday 4th of June 2023, a period of one week of time. "
   ]
  },
  {
   "cell_type": "markdown",
   "id": "4c0875de",
   "metadata": {
    "id": "4c0875de"
   },
   "source": [
    "**4) Think of the time periods to scrape and what second city to scrape. Explain your choices in written.**\n",
    "\n",
    "\n",
    "In order to select the most appropriate second city, we took a systematic approach and established a set of criteria that needed to be fulfilled. Firstly, we considered the size of the city, since it was important to choose a city that was of similar size to Barcelona. Secondly, we evaluated the city's popularity as a touristic destination during the summer months, making it crucial to choose a city that had comparable temperatures and weather. Thirdly, we looked at the cultural similarities between the two cities. This included aspects such as architecture, music, and theater, as we wanted to ensure that the chosen city had a similar cultural vibe to Barcelona. Lastly, we also considered the proximity of the city to water. As a beach city, Barcelona is a popular tourist destination in the summer, and we wanted to choose a second city that had similar attributes.\n",
    "\n",
    "After considering all these desired characteristics we ended up selecting three cities to compare with - Paris, Lisboa, and Palma de Mallorca. \n",
    "\n",
    "Paris was chosen due to its similarities in population size and proximity to Barcelona within Europe. As one of the most popular tourist destinations in Western Europe, Paris provides a great point of comparison. \n",
    "\n",
    "Lisboa was selected for its coastal location and its status as a popular tourist destination, well-known for its rich cultural heritage, vibrant arts scene, and rich history. The architecture in Lisboa is a blend of old and modern buildings such as in Barcelona, and the city is celebrated for its cuisine and bustling nightlife. \n",
    "\n",
    "Finally, Palma de Mallorca was chosen as the third option because of its location within Spain and its similarities to Barcelona as a beach city on the Mediterranean coast. Both cities are major transportation hubs, offering easy access to other destinations in Spain and beyond through their airports and port facilities.\n",
    "\n",
    "To make an effective comparison, it was important to select a comparable week as a \"control\" period together with the event week, to make sure of having similar general factors affect both of them. This means that we needed to be able to compare two weeks that occur during the same season, average temperatures and posible closeness to festivities, between others. Additionally, it was crucial to consider the scale of the event, taking into account cultural differences that can attract different types of tourists to the city, therefore we chose an event that could attract different types of people to the city, such as the Primavera Sound which has a variety of music artists playing. \n",
    "\n",
    "The two following weeks were selected as the time period to be examined, where Week 0 is the control and Week 1 is the treatment.\n",
    "\n",
    "| Week| Start Date | End Date |\n",
    "| --- | --- | --- |\n",
    "| 0 | 2023-15-05 | 2023-21-05 |\n",
    "| 1 | 2023-29-05 | 2023-04-06 |\n",
    "\n",
    "However, we need another data point to construct the lines and we therefore add the week inbetween. Although there might be some leakage (e.g. some tourrists may come early to the festival:\n",
    "\n",
    "| Week| Start Date | End Date |\n",
    "| --- | --- | --- |\n",
    "| 0 | 2023-15-05 | 2023-21-05 |\n",
    "|\n",
    "| 1 | 2023-29-05 | 2023-04-06 |"
   ]
  },
  {
   "cell_type": "markdown",
   "id": "96bd9473",
   "metadata": {},
   "source": [
    "**5) Write down a fixed effects regression equation that allows you to derive a difference-in-difference estimate of the effect of the event on prices. Think of controls to add, why is this relevant? Explain why you need a second city for this.**"
   ]
  },
  {
   "cell_type": "markdown",
   "id": "50d04515",
   "metadata": {},
   "source": [
    "The difference-in-difference estimate is a method used to estimate the causal effect of an intervention or treatment on an outcome variable, which in this case would be the effect of the event Primavera Sound on the prices of accomodations in the city of Barcelona. It involves comparing the difference in the outcome variable between two groups, the treatment and the control cities in this case, before and during the event has happened. The idea behind it is that the effect of the music festival can be isolated by comparing the change in the rental prices between the two cities after the second week, while controlling for any pre-existing differences between the two groups. If the treatment had a positive effect, we would expect to see a greater increase in the rental prices for the treated group compared to the control group.\n",
    "\n",
    "A base fixed effects regression equation for the difference-in-difference estimate of the effect of the annual event in Barcelona on rental prices on the booking website can be written as follows: \n",
    "\n",
    "$\\text{Rental_Price}_{it} = \\beta_0 + \\beta_1 * \\text{Event} + \\beta_2 * \\text{Time} + \\beta_3 * \\text{Event} * \\text{Time} + \\epsilon_{it}$\n",
    "\n",
    "Where:\n",
    "\n",
    "- $\\text{Rental_Price}_{it}$ is the dependent variable, representing the rental price $i$ per night $t$.\n",
    "- $\\text{Event}$ is a dummy variable indicating whether the rental was during the Primavera Sound event (1) or not (0).\n",
    "- $\\text{Time}$ is a dummy variable indicating the time period of the rental, with two levels: before the event (0) and during the event (1).\n",
    "- $\\beta_0$ is the first coefficient to be estimated by the regression representing the intercept.\n",
    "- $\\beta_1$ is the coefficient of the treatment dummy variable, which in this case represents the effect of the event.\n",
    "- $\\beta_2$ is the coefficient of the post dummy variable, which in this case represents the effect of time.\n",
    "- $\\beta_3$ is the coefficient of the interaction term between the two dummy variables, Event and Time. \n",
    "- $\\text{Event} * \\text{Time}$ is the interaction term between Event and Time, capturing the difference-in-difference estimate of the effect of the Primavera Sound on rental prices in the city.\n",
    "- $\\epsilon_{it}$ is the error term representing any other factors affecting rental prices not included in the model.\n",
    "\n",
    "But other factors may influence the outcome of interest. The purpose of including controls is to isolate the effect of the event on the rental prices, while controlling for the influence of other factors that may confound the relationship, introducing bias to it. By including controls in the model, we could can account for other factors that might influence rental prices, such as location, property type, weather, seasonality and whether the city is next to the beach or not. This helps to isolate the effect of the event on rental prices, and obtain a more accurate estimate of the causal impact of the event on rental prices in Barcelona.\n",
    "\n",
    "For example, if we decided to include a control variable for the location, we could control for any unobserved differences in rental prices across cities that may confound the relationship between the event and rental prices. If you include a control for property type, we could control for any differences in rental prices across different types of properties that may confound the relationship between the event and rental prices.\n",
    "\n",
    "The idea of including a second city is needed in this research project to serve as a control group, allowing us to compare the effect of the event on rental prices in Barcelona to a similar city without the event at the same time. This comparison would help us to control for any other factors that could affect rental prices and isolate the specific impact of the event on rental prices in Barcelona. Without a control city, it would be difficult to conclude that any observed changes in rental prices in Barcelona are solely due to the event and not due to other factors."
   ]
  },
  {
   "cell_type": "markdown",
   "id": "6139aaf9",
   "metadata": {},
   "source": [
    "**6) Scrape using a modified code that implements a loop across pages of the booking page and searches for different dates and cities.**\n",
    "\n",
    "Code to be found in the attached file \"Scrapping_Booking_Homework_3_Group_1.ipynb\"."
   ]
  },
  {
   "cell_type": "markdown",
   "id": "63a4d7d8",
   "metadata": {},
   "source": [
    "**7) Discuss two additional ideas (no need to implement): a) the use of the text that can be scraped from the hotel/appartment description b) how to de-construct the treatment effect in the effect that comes from the same hotel changing prices and composition of places changing.**"
   ]
  },
  {
   "cell_type": "markdown",
   "id": "4c8b191f",
   "metadata": {},
   "source": [
    "(a) <br>\n",
    "Note that hotel prices may depend on many different factors, an influx of people or seasonality (e.g., through Primavera Sound) being one of them. Thus, the price may depend on the number of stars, location, service, room amenities etc. Including these covariates should give a better estimate for treatment effect. Thus, a regression may look like this $\\forall \\; \\text{hotel}\\; i\\; \\text{in city}\\; j$:\n",
    "$$y_{t} = \\beta_0 + \\beta_1 y_{t-1} + \\beta_2 P_t + \\beta_3 P_t * y_{t-1} + \\alpha \\mathbf{X} + \\epsilon_t$$\n",
    "such that $\\mathbf{X}$ contains covariates (e.g., number of stars, dummy for pool, distance to the beach, dummy if breakfast is included, categorical variable for suburb, etc.).\n",
    "<br>\n",
    "<br>\n",
    "Additionally one could make the differnce relative to the average price prior to treatment. To justify this consider the following (simplified) scenario: hotel $i$ costs €80 a night at time $t-1$ and 96 at time $t$. Hotel $j$ costs €2,000 and €2,400 at time $t-1$ and $t$ respectivly. Using the \"naive\" ATE one would obtain 208. However, scaling by the previous price we change the unit to percent obtaining 0.2 which is independnt of the price level which can robustify against omitted variable bias."
   ]
  },
  {
   "cell_type": "markdown",
   "id": "cf88ab3f",
   "metadata": {},
   "source": [
    "(b)\n",
    "<br>\n",
    "Suppose the treatment occurs at time $t$, then:\n",
    "<br>\n",
    "1. run a regression: $y_{k} = \\beta*\\mathbf{X} + \\epsilon$ for k = 1,...,t-1\n",
    "2. estimate/predict $\\hat{y}_t$ \n",
    "3. ATE = $y_t$ - $\\hat{y}_t$\n",
    "\n",
    "Since static forcasting (which is commonly used in Time Series) provides us standard errors so we can make inference about the ATE "
   ]
  },
  {
   "cell_type": "code",
   "execution_count": null,
   "id": "ae0108b2",
   "metadata": {},
   "outputs": [],
   "source": []
  }
 ],
 "metadata": {
  "colab": {
   "provenance": []
  },
  "kernelspec": {
   "display_name": "Python 3",
   "language": "python",
   "name": "python3"
  },
  "language_info": {
   "codemirror_mode": {
    "name": "ipython",
    "version": 3
   },
   "file_extension": ".py",
   "mimetype": "text/x-python",
   "name": "python",
   "nbconvert_exporter": "python",
   "pygments_lexer": "ipython3",
   "version": "3.8.8"
  },
  "vscode": {
   "interpreter": {
    "hash": "866c4eef4daae6ad66333bb21c11470a23f6efb7eeb24158657848439181d3b4"
   }
  }
 },
 "nbformat": 4,
 "nbformat_minor": 5
}

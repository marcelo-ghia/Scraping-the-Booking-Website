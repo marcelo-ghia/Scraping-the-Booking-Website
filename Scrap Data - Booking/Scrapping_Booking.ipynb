{
 "cells": [
  {
   "cell_type": "code",
   "execution_count": 8,
   "id": "f79a9553",
   "metadata": {},
   "outputs": [
    {
     "name": "stdout",
     "output_type": "stream",
     "text": [
      "Where do you want to go?Barcelona\n"
     ]
    }
   ],
   "source": [
    "#%%\n",
    "#!pip3 install -r requirements.txt\n",
    "import dropbox\n",
    "from selenium.webdriver.common.keys import Keys\n",
    "# auxiliary functions modified by Luis.\n",
    "import scrape_functions as kzd\n",
    "import sys\n",
    "import calendar\n",
    "from selenium.common.exceptions import NoSuchElementException, ElementClickInterceptedException, StaleElementReferenceException\n",
    "import re\n",
    "from selenium.webdriver.support.ui import Select\n",
    "import random\n",
    "import time\n",
    "from selenium import webdriver\n",
    "import os\n",
    "import numpy as np\n",
    "import importlib\n",
    "importlib.reload(sys.modules['scrape_functions'])\n",
    "from datetime import date\n",
    "# %% Starting code\n",
    "\n",
    "\n",
    "geko_path = 'C:/Users/ghias/Desktop/BSE - Master in Data Science for Decision Making/T2/Introduction to Text Mining and NLP/geckodriver.exe'\n",
    "download_path = 'C:/Users/ghias/Desktop/BSE - Master in Data Science for Decision Making/T2/Introduction to Text Mining and NLP'\n",
    "profile, browser, download_path = kzd.start_up(dfolder=download_path, link='https://www.booking.com/country/es.es.html?aid=1610682;label=es-pd0u2jh0gyPaS5ItKVfnHAS379607634418:pl:ta:p1:p2:ac:ap:neg:fi:tikwd-10766116312:lp1005424:li:dec:dm:ppccp=UmFuZG9tSVYkc2RlIyh9YfpWGnRw6lOGdE15X_QAcTg;ws=&gclid=EAIaIQobChMI4I3ppbfn_AIVw6fVCh0mowAVEAAYASAAEgL2DfD_BwE'\n",
    ", download=download_path)\n",
    "# Clicking on the different buttoms to input things:\n",
    "time.sleep(3)\n",
    "\n",
    "\n",
    "# Click on  place\n",
    "\n",
    "#%%\n",
    "place = input('Where do you want to go?')\n",
    "search1 = browser.find_element('xpath','//input[@placeholder=\"¿Adónde vas?\"]')\n",
    "search1.send_keys(place)\n",
    "#%%\n",
    "#__bui-c969239-1\n",
    "    # # Clik on dates:\n",
    "kzd.check_and_click(\n",
    "    browser, '//button[@class=\"d47738b911 e246f833f7 fe211c0731\"]', type='xpath')\n",
    "\n",
    "#%%\n",
    "time.sleep(3)\n",
    "dates=browser.find_elements('xpath',\n",
    "    '//table[@class=\"aadb8ed6d3\"]/tbody/tr/td/span')\n"
   ]
  },
  {
   "cell_type": "code",
   "execution_count": 9,
   "id": "80ae5cf6",
   "metadata": {},
   "outputs": [
    {
     "name": "stdout",
     "output_type": "stream",
     "text": [
      "Day from which you want to look for (June)01\n",
      "Wrong from_day\n",
      "Day until which you want to look for (June)04\n"
     ]
    }
   ],
   "source": [
    "from_day = input('Day from which you want to look for (June)')\n",
    "if int(from_day)< date.today().day:\n",
    "    print('Wrong from_day')\n",
    "\n",
    "to_day = input('Day until which you want to look for (June)')\n",
    "\n",
    "\n",
    "for date1 in dates:\n",
    "    if date1.get_attribute(\"data-date\") == f\"2023-06-{from_day}\":\n",
    "        # date1.click() this is the old webdriver version\n",
    "        browser.execute_script(\"arguments[0].click();\", date1)\n",
    "    if date1.get_attribute(\"data-date\") == f\"2023-06-{to_day}\":\n",
    "        # date1.click()\n",
    "        browser.execute_script(\"arguments[0].click();\", date1)\n",
    "        break"
   ]
  },
  {
   "cell_type": "code",
   "execution_count": 10,
   "id": "d2b35700",
   "metadata": {},
   "outputs": [],
   "source": [
    "kzd.check_and_click(\n",
    "    browser, 'button.d4b6b7a9e7', type='css')\n",
    "time.sleep(2)\n",
    "\n",
    "# kzd.check_and_click(browser, 'div._fe1927d9e:nth-child(3) > div:nth-child(1) > div:nth-child(2) > div:nth-child(1) > div:nth-child(1) > div:nth-child(1) > div:nth-child(1) > div:nth-child(1) > div:nth-child(1) > div:nth-child(1) > h3:nth-child(1) > a:nth-child(1) > div:nth-child(1)', type='css')"
   ]
  },
  {
   "cell_type": "code",
   "execution_count": 36,
   "id": "07366ef8",
   "metadata": {},
   "outputs": [],
   "source": [
    "#%% Click to search:\n",
    "\n",
    "hotels = browser.find_elements('xpath','//div[@class=\"fcab3ed991 a23c043802\"]')\n",
    "ratings = browser.find_elements('xpath','//div[@class=\"b5cd09854e d10a6220b4\"]')\n",
    "price = browser.find_elements('xpath','//div[@class=\"e6e585da68\"]')\n",
    "#page = browser.find_elements('xpath','//div[@class=\"e6e585da68\"]')\n",
    "#<button aria-label=\" 2\" type=\"button\" class=\"fc63351294 f9c5690c58\">2</button>\n",
    "#<button aria-label=\" 8\" type=\"button\" class=\"fc63351294 f9c5690c58\">8</button>\n",
    "#<div class=\"e6e585da68\">Precio €&nbsp;265</div>\n",
    "ratings_list=[]\n",
    "for i in ratings:\n",
    "    #print(i.get_attribute('data-testid'))\n",
    "    #print(i.text)\n",
    "    ratings_list.append(i.text)\n",
    "hotels_list=[]\n",
    "for i in hotels:\n",
    "    #print(i.get_attribute('data-testid'))\n",
    "    #print(i.text)\n",
    "    hotels_list.append(i.text)\n",
    "price_list=[]\n",
    "for i in price:\n",
    "    price_list.append(i.text)\n"
   ]
  },
  {
   "cell_type": "code",
   "execution_count": 37,
   "id": "a31b9774",
   "metadata": {},
   "outputs": [],
   "source": [
    "#%% LOOPING OVER WEBPAGES:\n",
    "\n",
    "\"\"\"\n",
    "This function is to obtain total number of pages.\n",
    "To loop, just insert the full code on a big loop and use the pages output.\n",
    "\n",
    "\n",
    "ADDITION: You can also add random waiting times to avoid getting banned from webpages.\n",
    "\"\"\"\n",
    "\n",
    "time.sleep(2)\n",
    "\n",
    "\n",
    "def get_number_pages(browser):\n",
    "    '''\n",
    "    Get the number of pages. \n",
    "    '''\n",
    "    a = browser.find_elements('xpath',\n",
    "        '//button[text() and @class=\"fc63351294 f9c5690c58\"]')\n",
    "    total_pages = int(a[-1].text)\n",
    "    return(total_pages)\n",
    "\n",
    "pages = get_number_pages(browser)\n",
    "#From here it is very easy to program a loop that waits and keeps appending results"
   ]
  },
  {
   "cell_type": "code",
   "execution_count": 38,
   "id": "daa081d8",
   "metadata": {},
   "outputs": [],
   "source": [
    "import re\n",
    "prices = []\n",
    "for i in price_list:\n",
    "    pattern = re.findall(r\"Precio\", i)\n",
    "    #print(pattern)\n",
    "    if pattern == []:\n",
    "        pass\n",
    "    else:\n",
    "        pattern = re.findall(r\"original\", i)\n",
    "        if (pattern != ['original']):\n",
    "            prices.append(re.findall(r'\\d+', i))\n",
    "        else:\n",
    "            actual = i.split('actual')\n",
    "            prices.append(re.findall(r'\\d+', actual[1]))\n",
    "            pass\n",
    "\n",
    "price = []       \n",
    "for p in prices:\n",
    "    if len(p) == 2:\n",
    "        p = p[0] + p[1]\n",
    "        price.append(p)\n",
    "    else:\n",
    "        price.append(p[0])\n",
    "price = [int(i) for i in price]\n",
    "ratings_list = list(map(lambda st: str.replace(st, \",\", \".\"), ratings_list))\n",
    "ratings_list = [float(i) for i in ratings_list]"
   ]
  },
  {
   "cell_type": "code",
   "execution_count": null,
   "id": "7e3800f0",
   "metadata": {},
   "outputs": [],
   "source": []
  },
  {
   "cell_type": "code",
   "execution_count": null,
   "id": "083d0fdb",
   "metadata": {},
   "outputs": [],
   "source": []
  }
 ],
 "metadata": {
  "kernelspec": {
   "display_name": "Python 3",
   "language": "python",
   "name": "python3"
  },
  "language_info": {
   "codemirror_mode": {
    "name": "ipython",
    "version": 3
   },
   "file_extension": ".py",
   "mimetype": "text/x-python",
   "name": "python",
   "nbconvert_exporter": "python",
   "pygments_lexer": "ipython3",
   "version": "3.8.8"
  }
 },
 "nbformat": 4,
 "nbformat_minor": 5
}
